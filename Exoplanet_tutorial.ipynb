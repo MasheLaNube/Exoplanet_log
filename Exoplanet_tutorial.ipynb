{
 "cells": [
  {
   "cell_type": "code",
   "execution_count": 1,
   "id": "c176a3b4",
   "metadata": {},
   "outputs": [],
   "source": [
    "from exoplanet_log import ExoplanetLog"
   ]
  },
  {
   "cell_type": "code",
   "execution_count": 2,
   "id": "51c37106",
   "metadata": {},
   "outputs": [],
   "source": [
    "log= ExoplanetLog()\n",
    "system= 'TOI-122'\n",
    "planet= 'b'"
   ]
  },
  {
   "cell_type": "code",
   "execution_count": 3,
   "id": "da183a73",
   "metadata": {},
   "outputs": [
    {
     "name": "stdout",
     "output_type": "stream",
     "text": [
      "Sistem TOI-122 created in Exoplanet_Log/TOI-122.\n",
      "Enter stellar parameters for TOI-122 (If not found, just press enter): \n",
      "Stellar parameters added successfully.\n"
     ]
    }
   ],
   "source": [
    "log.add_system(system)\n",
    "log.add_stellar_params(system)"
   ]
  },
  {
   "cell_type": "code",
   "execution_count": 4,
   "id": "bede6d53",
   "metadata": {},
   "outputs": [
    {
     "name": "stdout",
     "output_type": "stream",
     "text": [
      "Exoplanet b created for the system TOI-122.\n"
     ]
    },
    {
     "data": {
      "text/plain": [
       "{'lc_data': 'Exoplanet_Log/TOI-122/b/lc_initial_data.csv',\n",
       " 'references': 'Exoplanet_Log/TOI-122/b/references.csv'}"
      ]
     },
     "execution_count": 4,
     "metadata": {},
     "output_type": "execute_result"
    }
   ],
   "source": [
    "log.add_exoplanet(system, planet)"
   ]
  },
  {
   "cell_type": "code",
   "execution_count": 5,
   "id": "416ad2c0",
   "metadata": {},
   "outputs": [
    {
     "name": "stdout",
     "output_type": "stream",
     "text": [
      "Insert the data from the lightcurve (To stop, just press enter when date is being asked):\n",
      "Lightcurve saved.\n"
     ]
    }
   ],
   "source": [
    "\n",
    "\n",
    "log.add_lc_data(system, planet)"
   ]
  },
  {
   "cell_type": "code",
   "execution_count": 6,
   "id": "62d275e5",
   "metadata": {},
   "outputs": [
    {
     "name": "stdout",
     "output_type": "stream",
     "text": [
      "Insert the links from your references (Leave blank to finish):\n",
      "References saved.\n"
     ]
    }
   ],
   "source": [
    "log.log_ref(system, planet)"
   ]
  },
  {
   "cell_type": "code",
   "execution_count": null,
   "id": "36bc913b",
   "metadata": {},
   "outputs": [],
   "source": []
  }
 ],
 "metadata": {
  "kernelspec": {
   "display_name": "base",
   "language": "python",
   "name": "python3"
  },
  "language_info": {
   "codemirror_mode": {
    "name": "ipython",
    "version": 3
   },
   "file_extension": ".py",
   "mimetype": "text/x-python",
   "name": "python",
   "nbconvert_exporter": "python",
   "pygments_lexer": "ipython3",
   "version": "3.12.7"
  }
 },
 "nbformat": 4,
 "nbformat_minor": 5
}
